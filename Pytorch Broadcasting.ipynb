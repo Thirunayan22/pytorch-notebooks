{
 "cells": [
  {
   "cell_type": "code",
   "execution_count": 1,
   "metadata": {},
   "outputs": [],
   "source": [
    "import torch\n",
    "import numpy as np"
   ]
  },
  {
   "cell_type": "code",
   "execution_count": 4,
   "metadata": {},
   "outputs": [
    {
     "name": "stdout",
     "output_type": "stream",
     "text": [
      "tensor([[66, 89, 72],\n",
      "        [21, 56, 56],\n",
      "        [45, 57, 87]])\n",
      "tensor([[77, 54, 14],\n",
      "        [37, 70, 95],\n",
      "        [20, 13, 18]])\n",
      "tensor([[68, 91, 77],\n",
      "        [92,  7, 99],\n",
      "        [84, 30,  6]])\n"
     ]
    }
   ],
   "source": [
    "tensor_1 = torch.randint(0,100,(3,3))\n",
    "tensor_2 = torch.randint(0,100,(3,3))\n",
    "tensor_3 = torch.randint(0,100,(3,3))\n",
    "\n",
    "print(tensor_1)\n",
    "print(tensor_2)\n",
    "print(tensor_3)"
   ]
  },
  {
   "cell_type": "code",
   "execution_count": 5,
   "metadata": {},
   "outputs": [
    {
     "data": {
      "text/plain": [
       "tensor([[68, 91, 74],\n",
       "        [23, 58, 58],\n",
       "        [47, 59, 89]])"
      ]
     },
     "execution_count": 5,
     "metadata": {},
     "output_type": "execute_result"
    }
   ],
   "source": [
    "tensor_1+2"
   ]
  },
  {
   "cell_type": "code",
   "execution_count": null,
   "metadata": {},
   "outputs": [],
   "source": []
  }
 ],
 "metadata": {
  "kernelspec": {
   "display_name": "pytorch_learn_env",
   "language": "python",
   "name": "pytorch_learn_env"
  },
  "language_info": {
   "codemirror_mode": {
    "name": "ipython",
    "version": 3
   },
   "file_extension": ".py",
   "mimetype": "text/x-python",
   "name": "python",
   "nbconvert_exporter": "python",
   "pygments_lexer": "ipython3",
   "version": "3.7.9"
  }
 },
 "nbformat": 4,
 "nbformat_minor": 4
}
