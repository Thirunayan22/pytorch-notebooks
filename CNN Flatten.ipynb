{
 "cells": [
  {
   "cell_type": "code",
   "execution_count": 1,
   "metadata": {},
   "outputs": [],
   "source": [
    "import torch\n",
    "import numpy as np"
   ]
  },
  {
   "cell_type": "code",
   "execution_count": 3,
   "metadata": {},
   "outputs": [
    {
     "name": "stdout",
     "output_type": "stream",
     "text": [
      "tensor([[28, 94, 48, 21],\n",
      "        [19,  9, 94, 84],\n",
      "        [58, 45, 68, 74],\n",
      "        [38, 34, 38,  7]]) torch.Size([4, 4])\n",
      "tensor([[99, 67,  0, 94],\n",
      "        [38, 91, 83, 86],\n",
      "        [79,  8,  0, 13],\n",
      "        [56, 67, 62, 92]]) torch.Size([4, 4])\n",
      "tensor([[14, 85, 77, 89],\n",
      "        [ 9, 44, 15, 36],\n",
      "        [40, 29,  1, 20],\n",
      "        [ 5, 65, 58, 73]]) torch.Size([4, 4])\n"
     ]
    }
   ],
   "source": [
    "t1 = torch.randint(100,(4,4))\n",
    "t2 = torch.randint(100,(4,4))\n",
    "t3 = torch.randint(100,(4,4))\n",
    "print(t1,t1.shape)\n",
    "print(t2,t2.shape)\n",
    "print(t3,t2.shape)"
   ]
  },
  {
   "cell_type": "code",
   "execution_count": 4,
   "metadata": {},
   "outputs": [
    {
     "name": "stdout",
     "output_type": "stream",
     "text": [
      "torch.Size([3, 4, 4])\n",
      "tensor([[[28, 94, 48, 21],\n",
      "         [19,  9, 94, 84],\n",
      "         [58, 45, 68, 74],\n",
      "         [38, 34, 38,  7]],\n",
      "\n",
      "        [[99, 67,  0, 94],\n",
      "         [38, 91, 83, 86],\n",
      "         [79,  8,  0, 13],\n",
      "         [56, 67, 62, 92]],\n",
      "\n",
      "        [[14, 85, 77, 89],\n",
      "         [ 9, 44, 15, 36],\n",
      "         [40, 29,  1, 20],\n",
      "         [ 5, 65, 58, 73]]])\n"
     ]
    }
   ],
   "source": [
    "#comnbining tensors\n",
    "tensor_new = torch.stack((t1,t2,t3))\n",
    "print(tensor_new.shape)\n",
    "print(tensor_new)"
   ]
  },
  {
   "cell_type": "code",
   "execution_count": 5,
   "metadata": {},
   "outputs": [
    {
     "name": "stdout",
     "output_type": "stream",
     "text": [
      "torch.Size([3, 1, 4, 4])\n",
      "tensor([[[[28, 94, 48, 21],\n",
      "          [19,  9, 94, 84],\n",
      "          [58, 45, 68, 74],\n",
      "          [38, 34, 38,  7]]],\n",
      "\n",
      "\n",
      "        [[[99, 67,  0, 94],\n",
      "          [38, 91, 83, 86],\n",
      "          [79,  8,  0, 13],\n",
      "          [56, 67, 62, 92]]],\n",
      "\n",
      "\n",
      "        [[[14, 85, 77, 89],\n",
      "          [ 9, 44, 15, 36],\n",
      "          [40, 29,  1, 20],\n",
      "          [ 5, 65, 58, 73]]]])\n"
     ]
    }
   ],
   "source": [
    "tensor_new  = tensor_new.reshape(3,1,4,4)\n",
    "print(tensor_new.shape)\n",
    "print(tensor_new)"
   ]
  },
  {
   "cell_type": "code",
   "execution_count": 22,
   "metadata": {},
   "outputs": [
    {
     "data": {
      "text/plain": [
       "tensor([[24, 58, 53, 34, 55, 59, 49,  5, 95, 43,  1, 82, 45, 35, 61, 41],\n",
       "        [95,  6, 34, 74, 12, 17, 84, 31, 30, 48, 78,  2, 51, 43, 21, 50],\n",
       "        [19, 45, 93, 62, 98, 35, 97, 53, 21,  2, 59, 73, 22, 58, 92, 64]])"
      ]
     },
     "execution_count": 22,
     "metadata": {},
     "output_type": "execute_result"
    }
   ],
   "source": [
    "tensor_new.flatten(start_dim=1)"
   ]
  },
  {
   "cell_type": "code",
   "execution_count": null,
   "metadata": {},
   "outputs": [],
   "source": []
  }
 ],
 "metadata": {
  "kernelspec": {
   "display_name": "pytorch_learn_env",
   "language": "python",
   "name": "pytorch_learn_env"
  },
  "language_info": {
   "codemirror_mode": {
    "name": "ipython",
    "version": 3
   },
   "file_extension": ".py",
   "mimetype": "text/x-python",
   "name": "python",
   "nbconvert_exporter": "python",
   "pygments_lexer": "ipython3",
   "version": "3.7.9"
  }
 },
 "nbformat": 4,
 "nbformat_minor": 4
}
