{
 "cells": [
  {
   "cell_type": "code",
   "execution_count": 1,
   "metadata": {},
   "outputs": [],
   "source": [
    "import torch\n",
    "import numpy as np"
   ]
  },
  {
   "cell_type": "code",
   "execution_count": 14,
   "metadata": {},
   "outputs": [
    {
     "name": "stdout",
     "output_type": "stream",
     "text": [
      "tensor([[76, 51, 48, 77],\n",
      "        [37, 30, 55, 14],\n",
      "        [ 4, 71, 77,  7],\n",
      "        [25,  4, 47, 65]]) torch.Size([4, 4])\n",
      "tensor([[40, 18, 89, 53],\n",
      "        [11, 44,  6,  5],\n",
      "        [49, 50, 31, 42],\n",
      "        [94, 51, 26, 59]]) torch.Size([4, 4])\n",
      "tensor([[73, 97, 54, 34],\n",
      "        [99,  2, 85, 12],\n",
      "        [83, 53, 30, 32],\n",
      "        [63, 70, 16, 65]]) torch.Size([4, 4])\n"
     ]
    }
   ],
   "source": [
    "t1 = torch.randint(100,(4,4))\n",
    "t2 = torch.randint(100,(4,4))\n",
    "t3 = torch.randint(100,(4,4))\n",
    "print(t1,t1.shape)\n",
    "print(t2,t2.shape)\n",
    "print(t3,t2.shape)"
   ]
  },
  {
   "cell_type": "code",
   "execution_count": 12,
   "metadata": {},
   "outputs": [
    {
     "data": {
      "text/plain": [
       "torch.Size([3, 4, 4])"
      ]
     },
     "execution_count": 12,
     "metadata": {},
     "output_type": "execute_result"
    }
   ],
   "source": [
    "#comnbining tensors\n",
    "tensor_new = torch.stack((t1,t2,t3))\n",
    "tensor_new.shape"
   ]
  },
  {
   "cell_type": "code",
   "execution_count": 17,
   "metadata": {},
   "outputs": [
    {
     "data": {
      "text/plain": [
       "tensor([[[[24, 58, 53, 34],\n",
       "          [55, 59, 49,  5],\n",
       "          [95, 43,  1, 82],\n",
       "          [45, 35, 61, 41]]],\n",
       "\n",
       "\n",
       "        [[[95,  6, 34, 74],\n",
       "          [12, 17, 84, 31],\n",
       "          [30, 48, 78,  2],\n",
       "          [51, 43, 21, 50]]],\n",
       "\n",
       "\n",
       "        [[[19, 45, 93, 62],\n",
       "          [98, 35, 97, 53],\n",
       "          [21,  2, 59, 73],\n",
       "          [22, 58, 92, 64]]]])"
      ]
     },
     "execution_count": 17,
     "metadata": {},
     "output_type": "execute_result"
    }
   ],
   "source": [
    "tensor_new  = tensor_new.reshape(3,1,4,4)\n",
    "tensor_new"
   ]
  },
  {
   "cell_type": "code",
   "execution_count": 22,
   "metadata": {},
   "outputs": [
    {
     "data": {
      "text/plain": [
       "tensor([[24, 58, 53, 34, 55, 59, 49,  5, 95, 43,  1, 82, 45, 35, 61, 41],\n",
       "        [95,  6, 34, 74, 12, 17, 84, 31, 30, 48, 78,  2, 51, 43, 21, 50],\n",
       "        [19, 45, 93, 62, 98, 35, 97, 53, 21,  2, 59, 73, 22, 58, 92, 64]])"
      ]
     },
     "execution_count": 22,
     "metadata": {},
     "output_type": "execute_result"
    }
   ],
   "source": [
    "tensor_new.flatten(start_dim=1)"
   ]
  },
  {
   "cell_type": "code",
   "execution_count": null,
   "metadata": {},
   "outputs": [],
   "source": []
  }
 ],
 "metadata": {
  "kernelspec": {
   "display_name": "pytorch_learn_env",
   "language": "python",
   "name": "pytorch_learn_env"
  },
  "language_info": {
   "codemirror_mode": {
    "name": "ipython",
    "version": 3
   },
   "file_extension": ".py",
   "mimetype": "text/x-python",
   "name": "python",
   "nbconvert_exporter": "python",
   "pygments_lexer": "ipython3",
   "version": "3.7.9"
  }
 },
 "nbformat": 4,
 "nbformat_minor": 4
}
