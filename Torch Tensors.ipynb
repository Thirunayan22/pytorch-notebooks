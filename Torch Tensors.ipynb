{
 "cells": [
  {
   "cell_type": "code",
   "execution_count": 37,
   "metadata": {},
   "outputs": [],
   "source": [
    "import torch\n",
    "import numpy as np"
   ]
  },
  {
   "cell_type": "code",
   "execution_count": 25,
   "metadata": {},
   "outputs": [
    {
     "name": "stdout",
     "output_type": "stream",
     "text": [
      "torch.float32\n",
      "cuda:0\n",
      "torch.strided\n"
     ]
    }
   ],
   "source": [
    "ts = torch.Tensor([1,2,4]).cuda()\n",
    "ts2 = torch.tensor([1,5,7])\n",
    "\n",
    "print(ts.dtype)\n",
    "print(ts.device)\n",
    "print(ts.layout)"
   ]
  },
  {
   "cell_type": "code",
   "execution_count": 34,
   "metadata": {},
   "outputs": [
    {
     "name": "stdout",
     "output_type": "stream",
     "text": [
      "tensor([[1., 0.],\n",
      "        [0., 1.]])\n",
      "tensor([[0., 0., 0.],\n",
      "        [0., 0., 0.]])\n",
      "tensor([[0.8704, 0.8553],\n",
      "        [0.9628, 0.1056]])\n"
     ]
    }
   ],
   "source": [
    "identity = torch.eye(2,2)\n",
    "print(identity)\n",
    "\n",
    "zeros  = torch.zeros(2,3)\n",
    "print(zeros)\n",
    "\n",
    "random_num = torch.rand(2,2)\n",
    "print(random_num)"
   ]
  },
  {
   "cell_type": "code",
   "execution_count": 39,
   "metadata": {},
   "outputs": [],
   "source": [
    "np_arr = np.array([1,2,3])"
   ]
  },
  {
   "cell_type": "code",
   "execution_count": 41,
   "metadata": {},
   "outputs": [
    {
     "name": "stdout",
     "output_type": "stream",
     "text": [
      "tensor([1., 2., 3.])\n",
      "tensor([1, 2, 3], dtype=torch.int32)\n",
      "tensor([1, 2, 3], dtype=torch.int32)\n"
     ]
    }
   ],
   "source": [
    "t1 = torch.Tensor(np_arr) # Class constructor function\n",
    "print(t1)\n",
    "\n",
    "t2 = torch.as_tensor(np_arr) # Factory function\n",
    "print(t2)\n",
    "\n",
    "t3 = torch.as_tensor(np_arr)\n",
    "print(t3)\n",
    "\n",
    "t4 = torch.from_numpy(np_arr)"
   ]
  },
  {
   "cell_type": "code",
   "execution_count": 42,
   "metadata": {},
   "outputs": [
    {
     "name": "stdout",
     "output_type": "stream",
     "text": [
      "tensor([1., 2., 4.], device='cuda:0')\n"
     ]
    }
   ],
   "source": []
  },
  {
   "cell_type": "code",
   "execution_count": null,
   "metadata": {},
   "outputs": [],
   "source": []
  }
 ],
 "metadata": {
  "kernelspec": {
   "display_name": "pytorch_learn_env",
   "language": "python",
   "name": "pytorch_learn_env"
  },
  "language_info": {
   "codemirror_mode": {
    "name": "ipython",
    "version": 3
   },
   "file_extension": ".py",
   "mimetype": "text/x-python",
   "name": "python",
   "nbconvert_exporter": "python",
   "pygments_lexer": "ipython3",
   "version": "3.7.9"
  }
 },
 "nbformat": 4,
 "nbformat_minor": 4
}
