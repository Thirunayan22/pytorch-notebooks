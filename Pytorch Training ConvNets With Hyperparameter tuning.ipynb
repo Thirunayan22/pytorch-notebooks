{
 "cells": [
  {
   "cell_type": "code",
   "execution_count": 32,
   "metadata": {},
   "outputs": [],
   "source": [
    "import numpy as np\n",
    "import torch\n",
    "import torch.nn as nn\n",
    "import torch.nn.functional as F\n",
    "import torch.optim as optim\n",
    "import torchvision\n",
    "import torchvision.transforms as transforms\n",
    "from sklearn.metrics import confusion_matrix\n",
    "from torch.utils.tensorboard import SummaryWriter\n",
    "from collections import OrderedDict\n",
    "\n",
    "from collections import namedtuple\n",
    "from itertools import product\n",
    "import matplotlib.pyplot as plt\n",
    "\n",
    "from torch.utils.data import DataLoader\n",
    "from torch.utils.tensorboard import SummaryWriter\n",
    "from IPython.display import display , clear_output\n",
    "import pandas as pd\n",
    "import time \n",
    "import json"
   ]
  },
  {
   "cell_type": "code",
   "execution_count": 35,
   "metadata": {},
   "outputs": [],
   "source": [
    "def get_corr_predicted(predictions,labels):\n",
    "    return predictions.argmax(dim=1).eq(labels).sum().item()"
   ]
  },
  {
   "cell_type": "code",
   "execution_count": 36,
   "metadata": {},
   "outputs": [],
   "source": [
    "class Network(nn.Module):\n",
    "    def __init__(self):\n",
    "        super(Network,self).__init__()\n",
    "        self.conv1 = nn.Conv2d(in_channels=1,out_channels=6,kernel_size=5)\n",
    "        self.conv2 = nn.Conv2d(in_channels=6,out_channels=12,kernel_size=5)\n",
    "        \n",
    "        self.fc1 = nn.Linear(in_features=12*4*4,out_features=120)\n",
    "        self.fc2 = nn.Linear(in_features = 120 , out_features = 60 )\n",
    "        self.out = nn.Linear(in_features=60 , out_features=10)\n",
    "        \n",
    "    def forward(self,t):\n",
    "        t = self.conv1(t)\n",
    "        t = F.relu(t)\n",
    "        t = F.max_pool2d(t,kernel_size=2,stride=2)\n",
    "        \n",
    "        t = self.conv2(t)\n",
    "        t  = F.relu(t)\n",
    "        t = F.max_pool2d(t,kernel_size=2,stride=2)\n",
    "        \n",
    "        t =  t.reshape(-1,12*4*4)\n",
    "        t = self.fc1(t)\n",
    "        t = F.relu(t)\n",
    "        \n",
    "        t = self.fc2(t)\n",
    "        t = F.relu(t)\n",
    "        \n",
    "        t = self.out(t)\n",
    "        return t"
   ]
  },
  {
   "cell_type": "code",
   "execution_count": 39,
   "metadata": {},
   "outputs": [],
   "source": []
  },
  {
   "cell_type": "code",
   "execution_count": 40,
   "metadata": {},
   "outputs": [],
   "source": [
    "train_set  = torchvision.datasets.FashionMNIST(\n",
    "root= \"MNIST/\",\n",
    "    train = True ,\n",
    "    download = True,\n",
    "    transform = transforms.Compose([\n",
    "        transforms.ToTensor()\n",
    "    ])\n",
    ")"
   ]
  },
  {
   "cell_type": "code",
   "execution_count": 41,
   "metadata": {},
   "outputs": [],
   "source": [
    "batch_size= 100\n",
    "lr = 0.01\n",
    "train_data_loader = torch.utils.data.DataLoader(train_set,batch_size=batch_size,shuffle=True)"
   ]
  },
  {
   "cell_type": "code",
   "execution_count": 13,
   "metadata": {},
   "outputs": [
    {
     "name": "stdout",
     "output_type": "stream",
     "text": [
      "Loss 1:  2.304344415664673\n",
      "Loss 2:  2.2817962169647217\n"
     ]
    }
   ],
   "source": [
    "network = Network()\n",
    "optimizer = optim.Adam(network.parameters(),lr=lr)\n",
    "batch = next(iter(train_data_loader))\n",
    "images,labels = batch\n",
    "\n",
    "preds = network(images)\n",
    "loss  = F.cross_entropy(preds,labels)\n",
    "loss.backward()\n",
    "optimizer.step()\n",
    "\n",
    "print(\"Loss 1: \",loss.item())\n",
    "preds =  network(images)\n",
    "loss = F.cross_entropy(preds,labels)\n",
    "print(\"Loss 2: \",loss.item())"
   ]
  },
  {
   "cell_type": "code",
   "execution_count": 17,
   "metadata": {},
   "outputs": [
    {
     "name": "stdout",
     "output_type": "stream",
     "text": [
      "epoch 0 total correct: 46989 loss: 338.95388609170914\n",
      "epoch 1 total correct: 51476 loss: 230.5381393879652\n",
      "epoch 2 total correct: 52060 loss: 214.1304852515459\n",
      "epoch 3 total correct: 52426 loss: 202.73804092407227\n",
      "epoch 4 total correct: 52557 loss: 198.6076188236475\n",
      "epoch 0 total correct: 41963 loss: 480.2937106490135\n",
      "epoch 1 total correct: 48440 loss: 311.1770951151848\n",
      "epoch 2 total correct: 50198 loss: 270.261054366827\n",
      "epoch 3 total correct: 51064 loss: 245.79708871245384\n",
      "epoch 4 total correct: 51630 loss: 228.13991124927998\n",
      "epoch 0 total correct: 30094 loss: 859.1488131284714\n",
      "epoch 1 total correct: 42807 loss: 469.32205736637115\n",
      "epoch 2 total correct: 44250 loss: 421.12240222096443\n",
      "epoch 3 total correct: 45064 loss: 394.60435324907303\n",
      "epoch 4 total correct: 45751 loss: 375.96648156642914\n",
      "epoch 0 total correct: 8988 loss: 1363.1896991729736\n",
      "epoch 1 total correct: 26724 loss: 1216.6816473007202\n",
      "epoch 2 total correct: 31889 loss: 935.0115466117859\n",
      "epoch 3 total correct: 37079 loss: 738.4198779463768\n",
      "epoch 4 total correct: 39304 loss: 640.8394966125488\n",
      "epoch 0 total correct: 33568 loss: 67.90631687641144\n",
      "epoch 1 total correct: 45569 loss: 37.158179581165314\n",
      "epoch 2 total correct: 48104 loss: 31.20118024945259\n",
      "epoch 3 total correct: 49747 loss: 27.943816781044006\n",
      "epoch 4 total correct: 50852 loss: 25.06886714696884\n",
      "epoch 0 total correct: 24182 loss: 101.73461836576462\n",
      "epoch 1 total correct: 42621 loss: 47.165333926677704\n",
      "epoch 2 total correct: 45061 loss: 39.83932054042816\n",
      "epoch 3 total correct: 46353 loss: 35.97828012704849\n",
      "epoch 4 total correct: 47343 loss: 33.356417924165726\n",
      "epoch 0 total correct: 12190 loss: 137.27346658706665\n",
      "epoch 1 total correct: 24432 loss: 129.18989419937134\n",
      "epoch 2 total correct: 30100 loss: 99.08145689964294\n",
      "epoch 3 total correct: 36903 loss: 71.08816874027252\n",
      "epoch 4 total correct: 39280 loss: 58.615717232227325\n",
      "epoch 0 total correct: 6000 loss: 138.2134907245636\n",
      "epoch 1 total correct: 6000 loss: 138.104798078537\n",
      "epoch 2 total correct: 6000 loss: 137.96182107925415\n",
      "epoch 3 total correct: 6000 loss: 137.78030514717102\n",
      "epoch 4 total correct: 6000 loss: 137.54525303840637\n",
      "epoch 0 total correct: 13323 loss: 12.911061406135559\n",
      "epoch 1 total correct: 26267 loss: 9.430002570152283\n",
      "epoch 2 total correct: 35645 loss: 6.401071071624756\n",
      "epoch 3 total correct: 38369 loss: 5.737127780914307\n",
      "epoch 4 total correct: 41540 loss: 5.001532435417175\n",
      "epoch 0 total correct: 7288 loss: 13.776446104049683\n",
      "epoch 1 total correct: 18360 loss: 13.506476879119873\n",
      "epoch 2 total correct: 22561 loss: 12.782427072525024\n",
      "epoch 3 total correct: 22864 loss: 11.15584945678711\n",
      "epoch 4 total correct: 29170 loss: 8.764454126358032\n",
      "epoch 0 total correct: 5998 loss: 13.826529741287231\n",
      "epoch 1 total correct: 5999 loss: 13.819185256958008\n",
      "epoch 2 total correct: 6066 loss: 13.811206817626953\n",
      "epoch 3 total correct: 6993 loss: 13.802598476409912\n",
      "epoch 4 total correct: 9775 loss: 13.792686223983765\n",
      "epoch 0 total correct: 6000 loss: 13.84174370765686\n",
      "epoch 1 total correct: 6000 loss: 13.840033769607544\n",
      "epoch 2 total correct: 6000 loss: 13.838311195373535\n",
      "epoch 3 total correct: 6000 loss: 13.836544752120972\n",
      "epoch 4 total correct: 6000 loss: 13.834747076034546\n"
     ]
    }
   ],
   "source": [
    "comment = f' batch_size={batch_size} lr={lr}'\n",
    "tb = SummaryWriter(comment=comment)\n",
    "images,labels = next(iter(train_data_loader))\n",
    "grid = torchvision.utils.make_grid(images)\n",
    "tb.add_image('images',grid)\n",
    "tb.add_graph(network,images)\n",
    "tb.close()\n",
    "\n",
    "batch_list  = [100,1000,10000]\n",
    "lr_list = [.01,.001,.0001,.00001]\n",
    "for batch_size in batch_list:\n",
    "        for lr in lr_list:\n",
    "            network = Network()\n",
    "            \n",
    "            train_loader = torch.utils.data.DataLoader(train_set,batch_size=batch_size)\n",
    "            optimizer = optim.Adam(network.parameters(),lr=lr)\n",
    "            \n",
    "            images,labels = next(iter(train_loader))\n",
    "            grid  = torchvision.utils.make_grid(images)\n",
    "            comment = f'batch size={batch_size} lr={lr}'\n",
    "            \n",
    "            tb = SummaryWriter(comment=comment)\n",
    "            tb.add_image('images',grid)\n",
    "            tb.add_graph(network,images)\n",
    "            \n",
    "            for epoch in range(5):\n",
    "                total_loss = 0\n",
    "                total_correct = 0\n",
    "                for batch in train_loader:\n",
    "                    images, labels = batch\n",
    "                    preds  = network(images)\n",
    "                    loss = F.cross_entropy(preds,labels)\n",
    "                    optimizer.zero_grad()\n",
    "                    loss.backward()\n",
    "                    optimizer.step()\n",
    "                    \n",
    "                    total_loss += loss.item()\n",
    "                    total_correct += get_corr_predicted(preds,labels)\n",
    "                    \n",
    "                tb.add_scalar('Loss',total_loss,epoch)\n",
    "                tb.add_scalar('Number correct ' ,total_correct,epoch)\n",
    "                tb.add_scalar('Accuracy',total_correct/len(train_set),epoch)\n",
    "                \n",
    "                for name,param in network.named_parameters():\n",
    "                    tb.add_histogram(name,param,epoch)\n",
    "                    tb.add_histogram(f'{name}.grad',param.grad,epoch)\n",
    "                    \n",
    "                print(\"epoch\",epoch,\n",
    "                     \"total correct:\",total_correct,\n",
    "                     \"loss:\",total_loss)\n",
    "                tb.close()\n",
    "\n",
    "  "
   ]
  },
  {
   "cell_type": "code",
   "execution_count": null,
   "metadata": {},
   "outputs": [],
   "source": []
  },
  {
   "cell_type": "code",
   "execution_count": 42,
   "metadata": {},
   "outputs": [],
   "source": [
    "test_images = [image[0] for image in iter(train_set) ]\n",
    "test_labels = [label[1] for label in iter(train_set)]"
   ]
  },
  {
   "cell_type": "code",
   "execution_count": 43,
   "metadata": {},
   "outputs": [],
   "source": [
    "def make_predictions(img_index):\n",
    "    predics =  network(test_images[img_index].unsqueeze(dim=1))\n",
    "    print(predics.argmax())\n",
    "    plt.imshow(test_images[img_index].squeeze())"
   ]
  },
  {
   "cell_type": "code",
   "execution_count": 44,
   "metadata": {},
   "outputs": [
    {
     "ename": "NameError",
     "evalue": "name 'network' is not defined",
     "output_type": "error",
     "traceback": [
      "\u001b[1;31m---------------------------------------------------------------------------\u001b[0m",
      "\u001b[1;31mNameError\u001b[0m                                 Traceback (most recent call last)",
      "\u001b[1;32m<ipython-input-44-a470975bc6a5>\u001b[0m in \u001b[0;36m<module>\u001b[1;34m\u001b[0m\n\u001b[1;32m----> 1\u001b[1;33m \u001b[0mmake_predictions\u001b[0m\u001b[1;33m(\u001b[0m\u001b[1;36m34\u001b[0m\u001b[1;33m)\u001b[0m\u001b[1;33m\u001b[0m\u001b[1;33m\u001b[0m\u001b[0m\n\u001b[0m",
      "\u001b[1;32m<ipython-input-43-95512346b705>\u001b[0m in \u001b[0;36mmake_predictions\u001b[1;34m(img_index)\u001b[0m\n\u001b[0;32m      1\u001b[0m \u001b[1;32mdef\u001b[0m \u001b[0mmake_predictions\u001b[0m\u001b[1;33m(\u001b[0m\u001b[0mimg_index\u001b[0m\u001b[1;33m)\u001b[0m\u001b[1;33m:\u001b[0m\u001b[1;33m\u001b[0m\u001b[1;33m\u001b[0m\u001b[0m\n\u001b[1;32m----> 2\u001b[1;33m     \u001b[0mpredics\u001b[0m \u001b[1;33m=\u001b[0m  \u001b[0mnetwork\u001b[0m\u001b[1;33m(\u001b[0m\u001b[0mtest_images\u001b[0m\u001b[1;33m[\u001b[0m\u001b[0mimg_index\u001b[0m\u001b[1;33m]\u001b[0m\u001b[1;33m.\u001b[0m\u001b[0munsqueeze\u001b[0m\u001b[1;33m(\u001b[0m\u001b[0mdim\u001b[0m\u001b[1;33m=\u001b[0m\u001b[1;36m1\u001b[0m\u001b[1;33m)\u001b[0m\u001b[1;33m)\u001b[0m\u001b[1;33m\u001b[0m\u001b[1;33m\u001b[0m\u001b[0m\n\u001b[0m\u001b[0;32m      3\u001b[0m     \u001b[0mprint\u001b[0m\u001b[1;33m(\u001b[0m\u001b[0mpredics\u001b[0m\u001b[1;33m.\u001b[0m\u001b[0margmax\u001b[0m\u001b[1;33m(\u001b[0m\u001b[1;33m)\u001b[0m\u001b[1;33m)\u001b[0m\u001b[1;33m\u001b[0m\u001b[1;33m\u001b[0m\u001b[0m\n\u001b[0;32m      4\u001b[0m     \u001b[0mplt\u001b[0m\u001b[1;33m.\u001b[0m\u001b[0mimshow\u001b[0m\u001b[1;33m(\u001b[0m\u001b[0mtest_images\u001b[0m\u001b[1;33m[\u001b[0m\u001b[0mimg_index\u001b[0m\u001b[1;33m]\u001b[0m\u001b[1;33m.\u001b[0m\u001b[0msqueeze\u001b[0m\u001b[1;33m(\u001b[0m\u001b[1;33m)\u001b[0m\u001b[1;33m)\u001b[0m\u001b[1;33m\u001b[0m\u001b[1;33m\u001b[0m\u001b[0m\n",
      "\u001b[1;31mNameError\u001b[0m: name 'network' is not defined"
     ]
    }
   ],
   "source": [
    " make_predictions(34)"
   ]
  },
  {
   "cell_type": "code",
   "execution_count": 45,
   "metadata": {},
   "outputs": [
    {
     "ename": "NameError",
     "evalue": "name 'preds' is not defined",
     "output_type": "error",
     "traceback": [
      "\u001b[1;31m---------------------------------------------------------------------------\u001b[0m",
      "\u001b[1;31mNameError\u001b[0m                                 Traceback (most recent call last)",
      "\u001b[1;32m<ipython-input-45-3fba8926dc12>\u001b[0m in \u001b[0;36m<module>\u001b[1;34m\u001b[0m\n\u001b[0;32m      1\u001b[0m \u001b[1;31m#Confusion matrix\u001b[0m\u001b[1;33m\u001b[0m\u001b[1;33m\u001b[0m\u001b[1;33m\u001b[0m\u001b[0m\n\u001b[1;32m----> 2\u001b[1;33m \u001b[0mpreds\u001b[0m\u001b[1;33m.\u001b[0m\u001b[0mgrad_fn\u001b[0m\u001b[1;33m\u001b[0m\u001b[1;33m\u001b[0m\u001b[0m\n\u001b[0m",
      "\u001b[1;31mNameError\u001b[0m: name 'preds' is not defined"
     ]
    }
   ],
   "source": [
    "#Confusion matrix\n",
    "preds.grad_fn"
   ]
  },
  {
   "cell_type": "code",
   "execution_count": 46,
   "metadata": {},
   "outputs": [],
   "source": [
    "@torch.no_grad()\n",
    "def get_all_preds(model,loader):\n",
    "    all_preds = torch.tensor([])\n",
    "    for batch in loader:\n",
    "        images,labels = batch\n",
    "        preds = model(images)\n",
    "        all_preds = torch.cat((all_preds,preds),dim=0)\n",
    "    return all_preds"
   ]
  },
  {
   "cell_type": "code",
   "execution_count": 48,
   "metadata": {},
   "outputs": [],
   "source": [
    "# prediction_loader = torch.utils.data.DataLoader(train_set,batch_size=10000)\n",
    "# train_preds = get_all_preds(network,prediction_loader)\n",
    "# preds_correct = get_corr_predicted(train_preds,train_set.targets)"
   ]
  },
  {
   "cell_type": "code",
   "execution_count": null,
   "metadata": {},
   "outputs": [],
   "source": []
  },
  {
   "cell_type": "code",
   "execution_count": 42,
   "metadata": {},
   "outputs": [
    {
     "name": "stdout",
     "output_type": "stream",
     "text": [
      "tensor([9, 0, 0,  ..., 3, 0, 5])\n",
      "tensor([9, 0, 6,  ..., 3, 0, 5])\n"
     ]
    }
   ],
   "source": [
    "print(train_set.targets)\n",
    "print(train_preds.argmax(dim=1))"
   ]
  },
  {
   "cell_type": "code",
   "execution_count": 44,
   "metadata": {},
   "outputs": [],
   "source": [
    "stacked = torch.stack((train_set.targets,train_preds.argmax(dim=1)),dim=1)"
   ]
  },
  {
   "cell_type": "code",
   "execution_count": 46,
   "metadata": {},
   "outputs": [
    {
     "data": {
      "text/plain": [
       "torch.Size([60000, 2])"
      ]
     },
     "execution_count": 46,
     "metadata": {},
     "output_type": "execute_result"
    }
   ],
   "source": [
    "stacked.shape"
   ]
  },
  {
   "cell_type": "code",
   "execution_count": 47,
   "metadata": {},
   "outputs": [
    {
     "data": {
      "text/plain": [
       "[9, 9]"
      ]
     },
     "execution_count": 47,
     "metadata": {},
     "output_type": "execute_result"
    }
   ],
   "source": [
    "stacked[0].tolist()"
   ]
  },
  {
   "cell_type": "code",
   "execution_count": 49,
   "metadata": {},
   "outputs": [
    {
     "data": {
      "text/plain": [
       "tensor([[0, 0, 0, 0, 0, 0, 0, 0, 0, 0],\n",
       "        [0, 0, 0, 0, 0, 0, 0, 0, 0, 0],\n",
       "        [0, 0, 0, 0, 0, 0, 0, 0, 0, 0],\n",
       "        [0, 0, 0, 0, 0, 0, 0, 0, 0, 0],\n",
       "        [0, 0, 0, 0, 0, 0, 0, 0, 0, 0],\n",
       "        [0, 0, 0, 0, 0, 0, 0, 0, 0, 0],\n",
       "        [0, 0, 0, 0, 0, 0, 0, 0, 0, 0],\n",
       "        [0, 0, 0, 0, 0, 0, 0, 0, 0, 0],\n",
       "        [0, 0, 0, 0, 0, 0, 0, 0, 0, 0],\n",
       "        [0, 0, 0, 0, 0, 0, 0, 0, 0, 0]])"
      ]
     },
     "execution_count": 49,
     "metadata": {},
     "output_type": "execute_result"
    }
   ],
   "source": [
    "cmt = torch.zeros(10,10,dtype=torch.int64)\n",
    "cmt"
   ]
  },
  {
   "cell_type": "code",
   "execution_count": 52,
   "metadata": {},
   "outputs": [],
   "source": [
    "for p in stacked:\n",
    "    tl,pl = p.tolist()\n",
    "    cmt[tl,pl] = cmt[tl,pl]+1"
   ]
  },
  {
   "cell_type": "code",
   "execution_count": 53,
   "metadata": {},
   "outputs": [
    {
     "data": {
      "text/plain": [
       "tensor([[4896,   18,  118,  128,   12,    0,  795,    0,   33,    0],\n",
       "        [   2, 5943,    2,   37,    4,    1,    9,    0,    2,    0],\n",
       "        [  46,   12, 5188,   49,  343,    0,  358,    0,    4,    0],\n",
       "        [  97,  182,   34, 5449,   64,    0,  172,    0,    2,    0],\n",
       "        [   3,    8,  566,  364, 4551,    0,  503,    0,    5,    0],\n",
       "        [   1,    0,    2,    1,    0, 5848,    3,  104,   19,   22],\n",
       "        [ 665,   24,  618,  126,  355,    0, 4195,    0,   17,    0],\n",
       "        [   0,    0,    1,    0,    0,   34,    6, 5840,    8,  111],\n",
       "        [   3,    5,   39,   23,   45,    4,   61,    3, 5817,    0],\n",
       "        [   1,    1,    1,    3,    0,   35,    2,  221,    3, 5733]])"
      ]
     },
     "execution_count": 53,
     "metadata": {},
     "output_type": "execute_result"
    }
   ],
   "source": [
    "cmt"
   ]
  },
  {
   "cell_type": "code",
   "execution_count": 56,
   "metadata": {},
   "outputs": [],
   "source": [
    "cm2 = confusion_matrix(train_set.targets,train_preds.argmax(dim=1))"
   ]
  },
  {
   "cell_type": "code",
   "execution_count": 58,
   "metadata": {},
   "outputs": [
    {
     "data": {
      "text/plain": [
       "array([[4896,   18,  118,  128,   12,    0,  795,    0,   33,    0],\n",
       "       [   2, 5943,    2,   37,    4,    1,    9,    0,    2,    0],\n",
       "       [  46,   12, 5188,   49,  343,    0,  358,    0,    4,    0],\n",
       "       [  97,  182,   34, 5449,   64,    0,  172,    0,    2,    0],\n",
       "       [   3,    8,  566,  364, 4551,    0,  503,    0,    5,    0],\n",
       "       [   1,    0,    2,    1,    0, 5848,    3,  104,   19,   22],\n",
       "       [ 665,   24,  618,  126,  355,    0, 4195,    0,   17,    0],\n",
       "       [   0,    0,    1,    0,    0,   34,    6, 5840,    8,  111],\n",
       "       [   3,    5,   39,   23,   45,    4,   61,    3, 5817,    0],\n",
       "       [   1,    1,    1,    3,    0,   35,    2,  221,    3, 5733]],\n",
       "      dtype=int64)"
      ]
     },
     "execution_count": 58,
     "metadata": {},
     "output_type": "execute_result"
    }
   ],
   "source": [
    "cm2"
   ]
  },
  {
   "cell_type": "code",
   "execution_count": 63,
   "metadata": {},
   "outputs": [],
   "source": [
    "import itertools\n",
    "def plot_confusion_matrix(cm, classes, normalize=False, title='Confusion matrix', cmap=plt.cm.Blues):\n",
    "    if normalize:\n",
    "        cm = cm.astype('float') / cm.sum(axis=1)[:, np.newaxis]\n",
    "        print(\"Normalized confusion matrix\")\n",
    "    else:\n",
    "        print('Confusion matrix, without normalization')\n",
    "\n",
    "    print(cm)\n",
    "    plt.imshow(cm, interpolation='nearest', cmap=cmap)\n",
    "    plt.title(title)\n",
    "    plt.colorbar()\n",
    "    tick_marks = np.arange(len(classes))\n",
    "    plt.xticks(tick_marks, classes, rotation=45)\n",
    "    plt.yticks(tick_marks, classes)\n",
    "\n",
    "    fmt = '.2f' if normalize else 'd'\n",
    "    thresh = cm.max() / 2.\n",
    "    for i, j in itertools.product(range(cm.shape[0]), range(cm.shape[1])):\n",
    "        plt.text(j, i, format(cm[i, j], fmt), horizontalalignment=\"center\", color=\"white\" if cm[i, j] > thresh else \"black\")\n",
    "\n",
    "    plt.tight_layout()\n",
    "    plt.ylabel('True label')\n",
    "    plt.xlabel('Predicted label')"
   ]
  },
  {
   "cell_type": "code",
   "execution_count": 65,
   "metadata": {},
   "outputs": [
    {
     "name": "stdout",
     "output_type": "stream",
     "text": [
      "Confusion matrix, without normalization\n",
      "tensor([[4896,   18,  118,  128,   12,    0,  795,    0,   33,    0],\n",
      "        [   2, 5943,    2,   37,    4,    1,    9,    0,    2,    0],\n",
      "        [  46,   12, 5188,   49,  343,    0,  358,    0,    4,    0],\n",
      "        [  97,  182,   34, 5449,   64,    0,  172,    0,    2,    0],\n",
      "        [   3,    8,  566,  364, 4551,    0,  503,    0,    5,    0],\n",
      "        [   1,    0,    2,    1,    0, 5848,    3,  104,   19,   22],\n",
      "        [ 665,   24,  618,  126,  355,    0, 4195,    0,   17,    0],\n",
      "        [   0,    0,    1,    0,    0,   34,    6, 5840,    8,  111],\n",
      "        [   3,    5,   39,   23,   45,    4,   61,    3, 5817,    0],\n",
      "        [   1,    1,    1,    3,    0,   35,    2,  221,    3, 5733]])\n"
     ]
    },
    {
     "data": {
      "image/png": "[encoded data removed]",
      "text/plain": [
       "<Figure size 432x288 with 2 Axes>"
      ]
     },
     "metadata": {
      "needs_background": "light"
     },
     "output_type": "display_data"
    }
   ],
   "source": [
    "plot_confusion_matrix(cmt,train_set.classes)"
   ]
  },
  {
   "cell_type": "markdown",
   "metadata": {},
   "source": [
    "## Coding Run builder"
   ]
  },
  {
   "cell_type": "code",
   "execution_count": 51,
   "metadata": {},
   "outputs": [],
   "source": [
    "params = OrderedDict(\n",
    "    lr = [0.01,0.001],\n",
    "    batch_size = [1000,10000]\n",
    ")"
   ]
  },
  {
   "cell_type": "code",
   "execution_count": 82,
   "metadata": {},
   "outputs": [],
   "source": [
    "class RunManager():\n",
    "    def __init__(self):\n",
    "        self.epoch_count = 0\n",
    "        self.epoch_loss  = 0\n",
    "        self.epoch_num_correct = None\n",
    "        \n",
    "        self.run_params = None\n",
    "        self.run_count = 0\n",
    "        self.run_data = []\n",
    "        self.run_start_time = None\n",
    "        \n",
    "        self.network = None\n",
    "        self.loader = None\n",
    "        self.tb = None\n",
    "    \n",
    "    def begin_run(self,run,network,loader):\n",
    "        self.run_start_time = time.time()\n",
    "        self.run_params = run\n",
    "        self.run_count += 1\n",
    "        \n",
    "        self.network = network\n",
    "        self.loader  =loader\n",
    "        self.tb  = SummaryWriter(comment=f'--{run}')\n",
    "        \n",
    "        images,labels = next(iter(self.loader))\n",
    "        grid = torchvision.utils.make_grid(images)\n",
    "        \n",
    "        self.tb.add_image('images',grid)\n",
    "        self.tb.add_graph(self.network,images)\n",
    "        \n",
    "    def end_run(self):\n",
    "        self.tb.close()\n",
    "        self.epoch_count = 0\n",
    "        \n",
    "    def begin_epoch(self):\n",
    "        self.epoch_start_time  = time.time()\n",
    "        self.epoch_count += 1\n",
    "        self.epoch_loss = 0\n",
    "        self.epoch_num_correct = 0\n",
    "    \n",
    "    def end_epoch(self):\n",
    "        epoch_duration = time.time() - self.epoch_start_time\n",
    "        run_duration = time.time() - self.run_start_time\n",
    "        \n",
    "        loss = self.epoch_loss / len(self.loader.dataset)\n",
    "        accuracy  = self.epoch_num_correct / len(self.loader.dataset)\n",
    "        \n",
    "        self.tb.add_scalar('Loss',loss,self.epoch_count)\n",
    "        self.tb.add_scalar('Accuracy',accuracy,self.epoch_count)\n",
    "        \n",
    "        for name , param in self.network.named_parameters():\n",
    "            self.tb.add_histogram(name,param,self.epoch_count)\n",
    "            self.tb.add_histogram(f'{name}.grad',param.grad,self.epoch_count)\n",
    "            \n",
    "        results = OrderedDict()\n",
    "        results[\"run\"] = self.run_count\n",
    "        results[\"epoch\"] = self.epoch_count\n",
    "        results[\"loss\"] = loss\n",
    "        results[\"accuracy\"] = accuracy\n",
    "        results[\"epoch duration\"] = epoch_duration\n",
    "        results[\"run duration\"] = run_duration\n",
    "        \n",
    "        for k,v in self.run_params._asdict().items(): results[k] = v\n",
    "        self.run_data.append(results)\n",
    "        df = pd.DataFrame.from_dict(self.run_data,orient=\"columns\")\n",
    "        clear_output(wait=True)\n",
    "        display(df)\n",
    "        \n",
    "    def track_loss(self,loss):\n",
    "        self.epoch_loss += loss.item() * self.loader.batch_size\n",
    "    \n",
    "    def track_num_correct(self,preds,labels):\n",
    "        self.epoch_num_correct = self._get_num_correct(preds,labels)\n",
    "    \n",
    "    @torch.no_grad()\n",
    "    def _get_num_correct(self,preds,labels):\n",
    "        return preds.argmax(dim=1).eq(labels).sum().item()\n",
    "    \n",
    "    def save(self,fileName):\n",
    "        pd.DataFrame.from_dict(self.run_data,orient='columns').to_csv(f'{fileName}.csv')\n",
    "        with open(f'{fileName}.json','w+',encoding=\"utf-8\") as f:\n",
    "            json.dump(self.run_data,f,ensure_ascii=False,indent=4)\n",
    "            \n",
    "        "
   ]
  },
  {
   "cell_type": "code",
   "execution_count": 83,
   "metadata": {},
   "outputs": [
    {
     "data": {
      "text/plain": [
       "odict_keys(['lr', 'batch_size'])"
      ]
     },
     "execution_count": 83,
     "metadata": {},
     "output_type": "execute_result"
    }
   ],
   "source": [
    "params.keys()"
   ]
  },
  {
   "cell_type": "code",
   "execution_count": 84,
   "metadata": {},
   "outputs": [
    {
     "data": {
      "text/plain": [
       "odict_values([[0.01], [1000, 2000]])"
      ]
     },
     "execution_count": 84,
     "metadata": {},
     "output_type": "execute_result"
    }
   ],
   "source": [
    "params.values()"
   ]
  },
  {
   "cell_type": "code",
   "execution_count": 85,
   "metadata": {},
   "outputs": [],
   "source": [
    "Run = namedtuple('Run',params.keys())"
   ]
  },
  {
   "cell_type": "code",
   "execution_count": 86,
   "metadata": {},
   "outputs": [],
   "source": [
    "class RunBuilder():\n",
    "    @staticmethod\n",
    "    def get_runs(params):\n",
    "        Run = namedtuple('Run',params.keys())\n",
    "        runs = []\n",
    "        for v in product(*params.values()):\n",
    "            runs.append(Run(*v))\n",
    "        return runs"
   ]
  },
  {
   "cell_type": "code",
   "execution_count": 87,
   "metadata": {},
   "outputs": [
    {
     "name": "stdout",
     "output_type": "stream",
     "text": [
      "-Run(lr=0.01, batch_size=1000)\n",
      "-Run(lr=0.01, batch_size=2000)\n"
     ]
    }
   ],
   "source": [
    "for run in RunBuilder.get_runs(params):\n",
    "    comment = f'-{run}'\n",
    "    print(comment)"
   ]
  },
  {
   "cell_type": "code",
   "execution_count": 88,
   "metadata": {},
   "outputs": [
    {
     "data": {
      "text/html": [
       "<div>\n",
       "<style scoped>\n",
       "    .dataframe tbody tr th:only-of-type {\n",
       "        vertical-align: middle;\n",
       "    }\n",
       "\n",
       "    .dataframe tbody tr th {\n",
       "        vertical-align: top;\n",
       "    }\n",
       "\n",
       "    .dataframe thead th {\n",
       "        text-align: right;\n",
       "    }\n",
       "</style>\n",
       "<table border=\"1\" class=\"dataframe\">\n",
       "  <thead>\n",
       "    <tr style=\"text-align: right;\">\n",
       "      <th></th>\n",
       "      <th>run</th>\n",
       "      <th>epoch</th>\n",
       "      <th>loss</th>\n",
       "      <th>accuracy</th>\n",
       "      <th>epoch duration</th>\n",
       "      <th>run duration</th>\n",
       "      <th>lr</th>\n",
       "      <th>batch_size</th>\n",
       "    </tr>\n",
       "  </thead>\n",
       "  <tbody>\n",
       "    <tr>\n",
       "      <th>0</th>\n",
       "      <td>1</td>\n",
       "      <td>1</td>\n",
       "      <td>2.203015</td>\n",
       "      <td>0.003683</td>\n",
       "      <td>7.959663</td>\n",
       "      <td>8.486641</td>\n",
       "      <td>0.01</td>\n",
       "      <td>1000</td>\n",
       "    </tr>\n",
       "    <tr>\n",
       "      <th>1</th>\n",
       "      <td>1</td>\n",
       "      <td>2</td>\n",
       "      <td>2.587154</td>\n",
       "      <td>0.001733</td>\n",
       "      <td>8.319115</td>\n",
       "      <td>16.872267</td>\n",
       "      <td>0.01</td>\n",
       "      <td>1000</td>\n",
       "    </tr>\n",
       "    <tr>\n",
       "      <th>2</th>\n",
       "      <td>1</td>\n",
       "      <td>3</td>\n",
       "      <td>2.465391</td>\n",
       "      <td>0.001417</td>\n",
       "      <td>8.990619</td>\n",
       "      <td>25.914890</td>\n",
       "      <td>0.01</td>\n",
       "      <td>1000</td>\n",
       "    </tr>\n",
       "    <tr>\n",
       "      <th>3</th>\n",
       "      <td>1</td>\n",
       "      <td>4</td>\n",
       "      <td>2.440736</td>\n",
       "      <td>0.001800</td>\n",
       "      <td>8.723996</td>\n",
       "      <td>34.691885</td>\n",
       "      <td>0.01</td>\n",
       "      <td>1000</td>\n",
       "    </tr>\n",
       "    <tr>\n",
       "      <th>4</th>\n",
       "      <td>1</td>\n",
       "      <td>5</td>\n",
       "      <td>2.517769</td>\n",
       "      <td>0.001717</td>\n",
       "      <td>9.090027</td>\n",
       "      <td>43.834914</td>\n",
       "      <td>0.01</td>\n",
       "      <td>1000</td>\n",
       "    </tr>\n",
       "    <tr>\n",
       "      <th>5</th>\n",
       "      <td>2</td>\n",
       "      <td>1</td>\n",
       "      <td>2.050115</td>\n",
       "      <td>0.007200</td>\n",
       "      <td>10.756499</td>\n",
       "      <td>11.917008</td>\n",
       "      <td>0.01</td>\n",
       "      <td>2000</td>\n",
       "    </tr>\n",
       "    <tr>\n",
       "      <th>6</th>\n",
       "      <td>2</td>\n",
       "      <td>2</td>\n",
       "      <td>2.285328</td>\n",
       "      <td>0.008533</td>\n",
       "      <td>9.554361</td>\n",
       "      <td>21.542371</td>\n",
       "      <td>0.01</td>\n",
       "      <td>2000</td>\n",
       "    </tr>\n",
       "    <tr>\n",
       "      <th>7</th>\n",
       "      <td>2</td>\n",
       "      <td>3</td>\n",
       "      <td>3.400401</td>\n",
       "      <td>0.003150</td>\n",
       "      <td>9.403018</td>\n",
       "      <td>31.011391</td>\n",
       "      <td>0.01</td>\n",
       "      <td>2000</td>\n",
       "    </tr>\n",
       "    <tr>\n",
       "      <th>8</th>\n",
       "      <td>2</td>\n",
       "      <td>4</td>\n",
       "      <td>3.055444</td>\n",
       "      <td>0.003200</td>\n",
       "      <td>9.171818</td>\n",
       "      <td>40.258758</td>\n",
       "      <td>0.01</td>\n",
       "      <td>2000</td>\n",
       "    </tr>\n",
       "    <tr>\n",
       "      <th>9</th>\n",
       "      <td>2</td>\n",
       "      <td>5</td>\n",
       "      <td>2.638506</td>\n",
       "      <td>0.003450</td>\n",
       "      <td>8.881459</td>\n",
       "      <td>49.201217</td>\n",
       "      <td>0.01</td>\n",
       "      <td>2000</td>\n",
       "    </tr>\n",
       "  </tbody>\n",
       "</table>\n",
       "</div>"
      ],
      "text/plain": [
       "   run  epoch      loss  accuracy  epoch duration  run duration    lr  \\\n",
       "0    1      1  2.203015  0.003683        7.959663      8.486641  0.01   \n",
       "1    1      2  2.587154  0.001733        8.319115     16.872267  0.01   \n",
       "2    1      3  2.465391  0.001417        8.990619     25.914890  0.01   \n",
       "3    1      4  2.440736  0.001800        8.723996     34.691885  0.01   \n",
       "4    1      5  2.517769  0.001717        9.090027     43.834914  0.01   \n",
       "5    2      1  2.050115  0.007200       10.756499     11.917008  0.01   \n",
       "6    2      2  2.285328  0.008533        9.554361     21.542371  0.01   \n",
       "7    2      3  3.400401  0.003150        9.403018     31.011391  0.01   \n",
       "8    2      4  3.055444  0.003200        9.171818     40.258758  0.01   \n",
       "9    2      5  2.638506  0.003450        8.881459     49.201217  0.01   \n",
       "\n",
       "   batch_size  \n",
       "0        1000  \n",
       "1        1000  \n",
       "2        1000  \n",
       "3        1000  \n",
       "4        1000  \n",
       "5        2000  \n",
       "6        2000  \n",
       "7        2000  \n",
       "8        2000  \n",
       "9        2000  "
      ]
     },
     "metadata": {},
     "output_type": "display_data"
    }
   ],
   "source": [
    "#With Run manager\n",
    "params = OrderedDict(\n",
    "    lr = [0.01],\n",
    "    batch_size = [1000,2000]\n",
    ")\n",
    "m = RunManager()\n",
    "for run in RunBuilder.get_runs(params):\n",
    "    network = Network()\n",
    "    loader = DataLoader(train_set,batch_size=run.batch_size)\n",
    "    optimizer = optim.Adam(network.parameters(),lr=run.lr)\n",
    "    m.begin_run(run,network,loader)\n",
    "    for epoch in range(5):\n",
    "        m.begin_epoch()\n",
    "        for batch in loader:\n",
    "            images = batch[0]\n",
    "            labels  = batch[1]\n",
    "            preds  = network(images)\n",
    "            loss =  F.cross_entropy(preds,labels)\n",
    "            loss.backward()\n",
    "            optimizer.step()\n",
    "            \n",
    "            m.track_loss(loss)\n",
    "            m.track_num_correct(preds,labels)\n",
    "        \n",
    "        m.end_epoch()\n",
    "    m.end_run()\n",
    "m.save('results')"
   ]
  },
  {
   "cell_type": "code",
   "execution_count": null,
   "metadata": {},
   "outputs": [],
   "source": []
  }
 ],
 "metadata": {
  "kernelspec": {
   "display_name": "pytorch_learn_env",
   "language": "python",
   "name": "pytorch_learn_env"
  },
  "language_info": {
   "codemirror_mode": {
    "name": "ipython",
    "version": 3
   },
   "file_extension": ".py",
   "mimetype": "text/x-python",
   "name": "python",
   "nbconvert_exporter": "python",
   "pygments_lexer": "ipython3",
   "version": "3.7.9"
  }
 },
 "nbformat": 4,
 "nbformat_minor": 4
}
